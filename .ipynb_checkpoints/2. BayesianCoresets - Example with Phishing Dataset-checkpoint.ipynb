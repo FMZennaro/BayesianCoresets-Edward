{
 "cells": [
  {
   "cell_type": "markdown",
   "metadata": {},
   "source": [
    "# Bayesian Coresets applied to the Phishing Dataset\n",
    "\n",
    "*(Better displayed in [nbviewer](https://nbviewer.jupyter.org/) as red warnings in font tag may not be displayed on github)*\n",
    "\n",
    "In this notebook we evaluate the use Bayesian coresets \\[1\\]\\[2\\] using Tensorflow/Edward \\[4\\] on the phishing dataset \\[4\\] (loosely following the experiments in \\[1\\]). As before, we rely on the code made availabe by Trevor Campbell for computing coresets \\[3\\].\n",
    "\n",
    "This notebook builds on the previous notebook, to which we refer for a more detailed description of the code.\n",
    "\n",
    "The notebook is divided in four parts:\n",
    "1. **Setup**: defining the data and the model;\n",
    "2. **Baseline**: setting up a SVM baseline;\n",
    "3. **Full-dataset Bayesian inference**: performing inference and posterior prediction on the full dataset;\n",
    "4. **Coreset Bayesian inference**: running coreset computation and performing inference and posterior prediction on the coreset.\n",
    "5. **Evaluation**: comparing the three approaches above in terms of accuracy and time.\n",
    "\n",
    "<font color='red'>**ISSUES**: still to correct/review: (i) proper way to handle coreset weights instead of upsampling; (ii) bottleneck at the tensorflow evaluation of the gradient.\n",
    "</font>"
   ]
  },
  {
   "cell_type": "markdown",
   "metadata": {},
   "source": [
    "## 1. Setup\n",
    "\n",
    "In this first section we define parameters and auxiliary functions, we generate and show the data, and we define the statistical model."
   ]
  },
  {
   "cell_type": "markdown",
   "metadata": {},
   "source": [
    "### Importing libraries"
   ]
  },
  {
   "cell_type": "code",
   "execution_count": 2,
   "metadata": {},
   "outputs": [],
   "source": [
    "import numpy as np\n",
    "from scipy import stats, sparse\n",
    "import matplotlib.pyplot as plt\n",
    "from sklearn import datasets, svm, metrics\n",
    "\n",
    "import tensorflow as tf\n",
    "import edward as ed\n",
    "import bcoresets as bc\n",
    "\n",
    "import time"
   ]
  },
  {
   "cell_type": "markdown",
   "metadata": {},
   "source": [
    "### Setting a random seed"
   ]
  },
  {
   "cell_type": "code",
   "execution_count": 2,
   "metadata": {},
   "outputs": [],
   "source": [
    "np.random.seed(742)"
   ]
  },
  {
   "cell_type": "markdown",
   "metadata": {},
   "source": [
    "### Defining the projection code\n",
    "\n",
    "See previous notebook for an explanation of this code."
   ]
  },
  {
   "cell_type": "code",
   "execution_count": 3,
   "metadata": {},
   "outputs": [],
   "source": [
    "class _Projection(object):\n",
    "    def __init__(self, N, projection_dim, approx_posterior):\n",
    "        self.dim = approx_posterior.shape[0].value\n",
    "        self.x = np.zeros((N, 0))\n",
    "        self.approx_posterior = approx_posterior\n",
    "        self.update_dimension(projection_dim)\n",
    "        return\n",
    "\n",
    "    def update_dimension(self, projection_dim):\n",
    "        if projection_dim < self.x.shape[1]:\n",
    "            self.x = self.x[:, :projection_dim]\n",
    "\n",
    "        if projection_dim > self.x.shape[1]:\n",
    "            old_dim = self.x.shape[1]\n",
    "            w = np.zeros((self.x.shape[0], projection_dim))\n",
    "            w[:, :old_dim] = self.x\n",
    "            w *= np.sqrt(old_dim)\n",
    "            for j in range(projection_dim-old_dim):\n",
    "                w[:, j+old_dim] = self._sample_component()\n",
    "            w /= np.sqrt(projection_dim)\n",
    "            self.x = w\n",
    "        return\n",
    "\n",
    "    def get(self):\n",
    "        return self.x.copy()"
   ]
  },
  {
   "cell_type": "code",
   "execution_count": 4,
   "metadata": {},
   "outputs": [],
   "source": [
    "class ProjectionF(_Projection):\n",
    "    def __init__(self, data, grad_log_likelihood, projection_dim, approx_posterior):\n",
    "        self.data = data\n",
    "        self.grad_log_likelihood = grad_log_likelihood\n",
    "        _Projection.__init__(self, data.shape[0], projection_dim, approx_posterior)\n",
    "  \n",
    "    def _sample_component(self):\n",
    "        sample_post = self.approx_posterior.sample().eval()\n",
    "        \n",
    "        sgll = [self.grad_log_likelihood.eval(feed_dict={X:self.data[i].reshape([1,self.data.shape[1]]),\n",
    "                                                         theta:sample_post})\n",
    "                for i in range(self.data.shape[0])]\n",
    "        sgll = np.array(sgll)\n",
    "                \n",
    "        return np.sqrt(self.dim)*sgll[:,np.random.randint(self.dim)]"
   ]
  },
  {
   "cell_type": "markdown",
   "metadata": {},
   "source": [
    "### Defining the params of the simulation\n",
    "\n",
    "We define the parameters of the simulation, including the number of random projection dimension and core samples for coreset computation (*nrandomdims*, *ncoresamples*); the number of samples, the step length, the burn-in duration and the amount of thinning for the MC simulation (*n_mcsamples*, *n_mcstepsize*, *n_mcburnin*, *n_mcthinning*,); the number of samples for posterior prediction (*n_ppcsamples*)."
   ]
  },
  {
   "cell_type": "code",
   "execution_count": 5,
   "metadata": {},
   "outputs": [],
   "source": [
    "nrandomdims = 50\n",
    "ncoresamples = 50\n",
    "\n",
    "n_mcsamples = 10000\n",
    "n_mcstepsize = 5.4e-2\n",
    "n_mcburnin = int(n_mcsamples/2)\n",
    "n_mcthinning = 5\n",
    "\n",
    "n_ppcsamples = 100"
   ]
  },
  {
   "cell_type": "markdown",
   "metadata": {},
   "source": [
    "### Loading the data\n",
    "\n",
    "We load the data and randomly partition it in a training set (90%) and a test set (10%)."
   ]
  },
  {
   "cell_type": "code",
   "execution_count": 6,
   "metadata": {},
   "outputs": [],
   "source": [
    "D = datasets.load_svmlight_file('./data/phishing')\n",
    "X = sparse.csr_matrix.todense(D[0])\n",
    "y = D[1]\n",
    "\n",
    "nsamples = X.shape[0]\n",
    "nfeatures = X.shape[1]\n",
    "\n",
    "trainmask = [(np.random.rand()>.1) for _ in range(nsamples)]\n",
    "Xtr = X[trainmask,:]\n",
    "ytr = y[trainmask]\n",
    "Xte = X[np.logical_not(trainmask),:]\n",
    "yte = y[np.logical_not(trainmask)]"
   ]
  },
  {
   "cell_type": "markdown",
   "metadata": {},
   "source": [
    "### Defining the model\n",
    "\n",
    "We define our standard Bayesian regression model as:\n",
    "$$\n",
    "P(Y \\vert \\theta) \\sim Bern (p = \\sigma(X \\theta))\n",
    "$$\n",
    "where $\\theta$ is the two-dimensional vector of parameters and $\\sigma(x) = \\frac{1}{1+\\exp{-x}}$ is the logistic function.\n",
    "\n",
    "We also define the log-likelihood of the models and we use Tensorflow for the definition of the gradient of the log-likelihood."
   ]
  },
  {
   "cell_type": "code",
   "execution_count": 8,
   "metadata": {},
   "outputs": [],
   "source": [
    "X = tf.placeholder(tf.float32,[None,nfeatures])\n",
    "theta = ed.models.Normal(loc=tf.zeros(nfeatures),scale=tf.ones(nfeatures))\n",
    "y = ed.models.Bernoulli(probs=tf.sigmoid(ed.dot(X,theta)))\n",
    "\n",
    "log_likelihood = tf.log(tf.sigmoid(ed.dot(X,theta)))\n",
    "grad_log_likelihood = tf.gradients(log_likelihood,[theta])[0]"
   ]
  },
  {
   "cell_type": "markdown",
   "metadata": {},
   "source": [
    "## 2. Baseline\n",
    "\n",
    "We train a simple classifier on the data to set a baseline."
   ]
  },
  {
   "cell_type": "markdown",
   "metadata": {},
   "source": [
    "### Linear SVM\n",
    "We instantiate and train a linear SVM. We record its running time (*t_svm*) and its prediction output (*ypred_svm*)."
   ]
  },
  {
   "cell_type": "code",
   "execution_count": 7,
   "metadata": {},
   "outputs": [],
   "source": [
    "t0 = time.time()\n",
    "\n",
    "svmmodel = svm.LinearSVC()\n",
    "svmmodel.fit(Xtr, ytr)\n",
    "ypred_svm = svmmodel.predict(Xte)\n",
    "\n",
    "t_svm = time.time() - t0"
   ]
  },
  {
   "cell_type": "code",
   "execution_count": 14,
   "metadata": {},
   "outputs": [],
   "source": [
    "X = tf.placeholder(tf.float32,[None,2])\n",
    "theta = ed.models.Normal(loc=tf.zeros(2),scale=tf.ones(2))\n",
    "y = ed.models.Bernoulli(probs=tf.sigmoid(ed.dot(X,theta)))\n",
    "\n",
    "log_likelihood = tf.log(tf.sigmoid(ed.dot(X,theta)))\n",
    "grad_log_likelihood = tf.gradients(log_likelihood,[theta])[0]"
   ]
  },
  {
   "cell_type": "markdown",
   "metadata": {},
   "source": [
    "## 3. Full-dataset Bayesian inference\n",
    "\n",
    "We now perform Bayesian inference on the full dataset."
   ]
  },
  {
   "cell_type": "markdown",
   "metadata": {},
   "source": [
    "### Hamiltonian Monte Carlo\n",
    "\n",
    "We run inference on the full dataset using Hamiltonian Monte Carlo. As before, we record the running time (*t_hmcfull*) and its prediction output (*ypred_hmcfull*)."
   ]
  },
  {
   "cell_type": "code",
   "execution_count": 9,
   "metadata": {},
   "outputs": [
    {
     "name": "stderr",
     "output_type": "stream",
     "text": [
      "/home/fmzennaro/miniconda2_1/envs/bayes3/lib/python3.6/site-packages/edward/util/random_variables.py:52: FutureWarning: Conversion of the second argument of issubdtype from `float` to `np.floating` is deprecated. In future, it will be treated as `np.float64 == np.dtype(float).type`.\n",
      "  not np.issubdtype(value.dtype, np.float) and \\\n"
     ]
    },
    {
     "name": "stdout",
     "output_type": "stream",
     "text": [
      "10000/10000 [100%] ██████████████████████████████ Elapsed: 43s | Acceptance Rate: 0.914\n"
     ]
    }
   ],
   "source": [
    "t0 = time.time()\n",
    "\n",
    "thetachain = ed.models.Empirical(params=tf.Variable(tf.zeros([n_mcsamples,nfeatures])))\n",
    "inference = ed.HMC({theta:thetachain},\n",
    "                    {X:Xtr,y:ytr.reshape((ytr.shape[0]))})\n",
    "inference.run(step_size=n_mcstepsize)\n",
    "thetahat = ed.models.Empirical(params = thetachain.params.eval()[n_mcburnin:n_mcsamples:n_mcthinning])\n",
    "\n",
    "ypost_full = ed.copy(y, {theta:thetahat})\n",
    "ppc_samples = [ypost_full.eval(feed_dict={X:Xte}) for _ in range(n_ppcsamples)]\n",
    "ypred_hmcfull = (np.array(ppc_samples).mean(axis=0) > .5)\n",
    "\n",
    "t_hmcfull = time.time() - t0"
   ]
  },
  {
   "cell_type": "markdown",
   "metadata": {},
   "source": [
    "## 4. Coreset Bayesian inference\n",
    "\n",
    "We now perform Bayesian inference on the coreset."
   ]
  },
  {
   "cell_type": "markdown",
   "metadata": {},
   "source": [
    "### GIGA Coreset\n",
    "\n",
    "We compute the GIGA coreset of the full dataset. This step includes evaluating an approximate posterior via a Laplace approximation, a discretization and random projection of the log-likelihood, the computation of the coreset and the upsampling of the result (see previous notebook for an explanation of this code). We record the running time of the coreset computation (*t_giga*)."
   ]
  },
  {
   "cell_type": "code",
   "execution_count": 10,
   "metadata": {},
   "outputs": [
    {
     "name": "stderr",
     "output_type": "stream",
     "text": [
      "/home/fmzennaro/miniconda2_1/envs/bayes3/lib/python3.6/site-packages/edward/util/random_variables.py:52: FutureWarning: Conversion of the second argument of issubdtype from `float` to `np.floating` is deprecated. In future, it will be treated as `np.float64 == np.dtype(float).type`.\n",
      "  not np.issubdtype(value.dtype, np.float) and \\\n"
     ]
    },
    {
     "name": "stdout",
     "output_type": "stream",
     "text": [
      "1000/1000 [100%] ██████████████████████████████ Elapsed: 4s | Loss: 1949.302\n"
     ]
    }
   ],
   "source": [
    "t0 = time.time()\n",
    "\n",
    "qtheta = ed.models.MultivariateNormalTriL(\n",
    "                    loc = tf.Variable(tf.zeros(nfeatures)),\n",
    "                    scale_tril = tf.Variable(tf.eye(nfeatures,nfeatures)))\n",
    "inference = ed.Laplace({theta:qtheta}, {X:Xtr,y:ytr.reshape((ytr.shape[0]))})\n",
    "inference.run()\n",
    "\n",
    "randomprojection = ProjectionF(Xtr, grad_log_likelihood, nrandomdims, qtheta)\n",
    "vecs = randomprojection.get()\n",
    "   \n",
    "bc_giga = bc.GIGA(vecs)\n",
    "bc_giga.run(ncoresamples)\n",
    "\n",
    "Wt = bc_giga.weights()\n",
    "Xwt = Xtr[Wt>0]\n",
    "ywt = ytr[Wt>0]\n",
    "ywt = ywt.reshape((ywt.shape[0],1))\n",
    "Wt = Wt[Wt>0]\n",
    "for i in range(Wt.shape[0]):\n",
    "    np.vstack((Xwt, np.tile(Xwt[i,:],(np.int32(np.floor(Wt[i])),1))))\n",
    "    np.vstack((ywt, np.tile(ywt[i,:],(np.int32(np.floor(Wt[i])),1))))\n",
    "\n",
    "t_giga = time.time() - t0"
   ]
  },
  {
   "cell_type": "markdown",
   "metadata": {},
   "source": [
    "### Hamiltonian Monte Carlo\n",
    "\n",
    "We run inference on the coreset using Hamiltonian Monte Carlo. We record the running time (*t_hmcgiga*) and its prediction output (*ypred_hmcgiga*)."
   ]
  },
  {
   "cell_type": "code",
   "execution_count": 11,
   "metadata": {},
   "outputs": [
    {
     "name": "stderr",
     "output_type": "stream",
     "text": [
      "/home/fmzennaro/miniconda2_1/envs/bayes3/lib/python3.6/site-packages/edward/util/random_variables.py:52: FutureWarning: Conversion of the second argument of issubdtype from `float` to `np.floating` is deprecated. In future, it will be treated as `np.float64 == np.dtype(float).type`.\n",
      "  not np.issubdtype(value.dtype, np.float) and \\\n"
     ]
    },
    {
     "name": "stdout",
     "output_type": "stream",
     "text": [
      "10000/10000 [100%] ██████████████████████████████ Elapsed: 9s | Acceptance Rate: 1.000\n"
     ]
    }
   ],
   "source": [
    "t0 = time.time()\n",
    "\n",
    "thetachain = ed.models.Empirical(params=tf.Variable(tf.zeros([n_mcsamples,nfeatures])))\n",
    "inference = ed.HMC({theta:thetachain},\n",
    "                    {X:Xwt,y:ywt.reshape((ywt.shape[0]))})\n",
    "inference.run(step_size=n_mcstepsize)\n",
    "thetahat = ed.models.Empirical(params = thetachain.params.eval()[n_mcburnin:n_mcsamples:n_mcthinning])\n",
    "\n",
    "ypost_giga = ed.copy(y, {theta:thetahat})\n",
    "ppc_samples = [ypost_giga.eval(feed_dict={X:Xte}) for _ in range(n_ppcsamples)]\n",
    "ypred_hmcgiga = (np.array(ppc_samples).mean(axis=0) > .5)\n",
    "\n",
    "t_hmcgiga = time.time() - t0"
   ]
  },
  {
   "cell_type": "markdown",
   "metadata": {},
   "source": [
    "## 5. Evaluation\n",
    "We now compare the results of the three models considered above (linear SVM, HMC on the full dataset, HMC on coreset)."
   ]
  },
  {
   "cell_type": "markdown",
   "metadata": {},
   "source": [
    "### Accuracy\n",
    "\n",
    "We print out the *accuracy* and the *confusion matrix* of the three models."
   ]
  },
  {
   "cell_type": "code",
   "execution_count": 13,
   "metadata": {},
   "outputs": [
    {
     "name": "stdout",
     "output_type": "stream",
     "text": [
      "Performance using SVM on the full dataset\n",
      "Accuracy: 0.9360568383658969\n",
      "Confusion matrix: [[472  42]\n",
      " [ 30 582]]\n",
      "\n",
      "Performance using HMC on the full dataset\n",
      "Accuracy: 0.9360568383658969\n",
      "Confusion matrix: [[469  45]\n",
      " [ 27 585]]\n",
      "\n",
      "Performance using HMC on the GIGA dataset\n",
      "Accuracy: 0.9325044404973357\n",
      "Confusion matrix: [[466  48]\n",
      " [ 28 584]]\n"
     ]
    }
   ],
   "source": [
    "print('Performance using SVM on the full dataset')\n",
    "print('Accuracy: {0}'.format(metrics.accuracy_score(yte, ypred_svm)))\n",
    "print('Confusion matrix: {0}\\n'.format(metrics.confusion_matrix(yte, ypred_svm)))\n",
    "\n",
    "print('Performance using HMC on the full dataset')\n",
    "print('Accuracy: {0}'.format(metrics.accuracy_score(yte, ypred_hmcfull)))\n",
    "print('Confusion matrix: {0}\\n'.format(metrics.confusion_matrix(yte, ypred_hmcfull)))\n",
    "\n",
    "print('Performance using HMC on the GIGA dataset')\n",
    "print('Accuracy: {0}'.format(metrics.accuracy_score(yte, ypred_hmcgiga)))\n",
    "print('Confusion matrix: {0}'.format(metrics.confusion_matrix(yte, ypred_hmcgiga)))"
   ]
  },
  {
   "cell_type": "markdown",
   "metadata": {},
   "source": [
    "### Time\n",
    "\n",
    "We print out the computation *time* of the three models."
   ]
  },
  {
   "cell_type": "code",
   "execution_count": 14,
   "metadata": {},
   "outputs": [
    {
     "name": "stdout",
     "output_type": "stream",
     "text": [
      "Timings:\n",
      "Running SVM: 0.06523871421813965 secs\n",
      "Running HMC on the full dataset: 43.76945781707764 secs\n",
      "Running GIGA: 91.64573407173157 secs\n",
      "Running HMC on the GIGA dataset: 9.326332569122314 secs\n"
     ]
    }
   ],
   "source": [
    "print('Timings:')\n",
    "print('Running SVM: {0} secs'.format(t_svm))\n",
    "print('Running HMC on the full dataset: {0} secs'.format(t_hmcfull))\n",
    "print('Running GIGA: {0} secs'.format(t_giga))\n",
    "print('Running HMC on the GIGA dataset: {0} secs'.format(t_hmcgiga))"
   ]
  },
  {
   "cell_type": "markdown",
   "metadata": {},
   "source": [
    "## References\n",
    "\n",
    "\\[1\\] Campbell, T. & Broderick, T. Automated Scalable Bayesian Inference via Hilbert Coresets arXiv preprint arXiv:1710.05053, 2017.\n",
    "\n",
    "\\[2\\] Campbell, T. & Broderick, T. Bayesian coreset construction via greedy iterative geodesic ascent arXiv preprint arXiv:1802.01737, 2018\n",
    "\n",
    "\\[3\\] [Bayesian Coresets: Automated, Scalable Inference](https://github.com/trevorcampbell/bayesian-coresets)\n",
    "\n",
    "\\[4\\] Tran, D.; Kucukelbir, A.; Dieng, A. B.; Rudolph, M.; Liang, D. & Blei, D. M. Edward: A library for probabilistic modeling, inference, and criticism arXiv preprint arXiv:1610.09787, 2016\n",
    "\n",
    "\\[5\\] Chih-Chung Chang and Chih-Jen Lin, LIBSVM : a library for support vector machines. ACM Transactions on Intelligent Systems and Technology, 2:27:1--27:27, 2011. [Phishing dataset](https://www.csie.ntu.edu.tw/~cjlin/libsvmtools/datasets/binary.html#phishing)"
   ]
  }
 ],
 "metadata": {
  "kernelspec": {
   "display_name": "Python 3",
   "language": "python",
   "name": "python3"
  },
  "language_info": {
   "codemirror_mode": {
    "name": "ipython",
    "version": 3
   },
   "file_extension": ".py",
   "mimetype": "text/x-python",
   "name": "python",
   "nbconvert_exporter": "python",
   "pygments_lexer": "ipython3",
   "version": "3.7.7"
  }
 },
 "nbformat": 4,
 "nbformat_minor": 2
}
